{
 "cells": [
  {
   "cell_type": "code",
   "execution_count": 1,
   "id": "42a620d1-9505-4a8c-93c3-aaa8075200f6",
   "metadata": {},
   "outputs": [],
   "source": [
    "a = 5"
   ]
  },
  {
   "cell_type": "code",
   "execution_count": 2,
   "id": "f60fb27d-3222-4c76-85b7-b96986b4adf7",
   "metadata": {},
   "outputs": [],
   "source": [
    "b = 6"
   ]
  },
  {
   "cell_type": "code",
   "execution_count": 3,
   "id": "94a2ca0c-8d58-48e1-b54d-9a9cc014140a",
   "metadata": {},
   "outputs": [
    {
     "data": {
      "text/plain": [
       "11"
      ]
     },
     "execution_count": 3,
     "metadata": {},
     "output_type": "execute_result"
    }
   ],
   "source": [
    "a + b"
   ]
  },
  {
   "cell_type": "code",
   "execution_count": 5,
   "id": "825ccc19-6462-430b-b8c3-66452fb6edc9",
   "metadata": {},
   "outputs": [],
   "source": [
    "name = \"mansi\""
   ]
  },
  {
   "cell_type": "code",
   "execution_count": 6,
   "id": "34455386-0817-495e-bb03-30360ab207ca",
   "metadata": {},
   "outputs": [
    {
     "name": "stdout",
     "output_type": "stream",
     "text": [
      "hello world\n"
     ]
    }
   ],
   "source": [
    "print(\"hello world\")"
   ]
  },
  {
   "cell_type": "code",
   "execution_count": 8,
   "id": "aa5f7b2f-cf37-4d90-96fe-53580972f5f8",
   "metadata": {},
   "outputs": [],
   "source": [
    "#this is comment"
   ]
  },
  {
   "cell_type": "code",
   "execution_count": 10,
   "id": "5726600c-1fff-43b2-bddb-c4622bc1e219",
   "metadata": {},
   "outputs": [
    {
     "name": "stdout",
     "output_type": "stream",
     "text": [
      "<class 'int'>\n"
     ]
    }
   ],
   "source": [
    "print(type(a))"
   ]
  },
  {
   "cell_type": "code",
   "execution_count": 11,
   "id": "fdab3a09-b235-450c-a946-ef9b0dab377b",
   "metadata": {},
   "outputs": [
    {
     "name": "stdout",
     "output_type": "stream",
     "text": [
      "<class 'str'>\n"
     ]
    }
   ],
   "source": [
    "print(type(name))"
   ]
  },
  {
   "cell_type": "code",
   "execution_count": 16,
   "id": "4ffd62ad-dac2-4c45-b2d5-35df35b0872e",
   "metadata": {},
   "outputs": [
    {
     "data": {
      "text/plain": [
       "str"
      ]
     },
     "execution_count": 16,
     "metadata": {},
     "output_type": "execute_result"
    }
   ],
   "source": [
    "type(name)"
   ]
  },
  {
   "cell_type": "code",
   "execution_count": 13,
   "id": "2ccf4a29-8814-4122-ab4b-43877c780848",
   "metadata": {},
   "outputs": [],
   "source": [
    "a = \"3456\""
   ]
  },
  {
   "cell_type": "code",
   "execution_count": 19,
   "id": "ee37000d-8175-4fdc-9042-b45c92f75679",
   "metadata": {},
   "outputs": [],
   "source": [
    "b= \"789\""
   ]
  },
  {
   "cell_type": "code",
   "execution_count": 20,
   "id": "5533c374-829a-44e0-94d9-7aa7716a27c0",
   "metadata": {},
   "outputs": [
    {
     "name": "stdout",
     "output_type": "stream",
     "text": [
      "4245\n"
     ]
    }
   ],
   "source": [
    "print(int(a) + int(b)) #typecating"
   ]
  },
  {
   "cell_type": "code",
   "execution_count": 21,
   "id": "29eb60cc-7c2c-40b5-a87e-88c257bdfde8",
   "metadata": {},
   "outputs": [
    {
     "name": "stdout",
     "output_type": "stream",
     "text": [
      "3456789\n"
     ]
    }
   ],
   "source": [
    "print(a + b)"
   ]
  }
 ],
 "metadata": {
  "kernelspec": {
   "display_name": "Python [conda env:base] *",
   "language": "python",
   "name": "conda-base-py"
  },
  "language_info": {
   "codemirror_mode": {
    "name": "ipython",
    "version": 3
   },
   "file_extension": ".py",
   "mimetype": "text/x-python",
   "name": "python",
   "nbconvert_exporter": "python",
   "pygments_lexer": "ipython3",
   "version": "3.12.7"
  }
 },
 "nbformat": 4,
 "nbformat_minor": 5
}
