{
 "cells": [
  {
   "cell_type": "code",
   "execution_count": 1,
   "id": "a70f9a4b-fb2f-4f07-b924-339cb9b33636",
   "metadata": {},
   "outputs": [],
   "source": [
    "table = []"
   ]
  },
  {
   "cell_type": "code",
   "execution_count": 3,
   "id": "901836c9-291d-44b2-9421-627719666ba8",
   "metadata": {},
   "outputs": [
    {
     "name": "stdout",
     "output_type": "stream",
     "text": [
      "2*1 =2\n",
      "2*2 =4\n",
      "2*3 =6\n",
      "2*4 =8\n",
      "2*5 =10\n",
      "2*6 =12\n",
      "2*7 =14\n",
      "2*8 =16\n",
      "2*9 =18\n",
      "2*10 =20\n"
     ]
    }
   ],
   "source": [
    "for i in range(1,11):\n",
    "    print(f\"2*{i} ={2*i}\")\n",
    "    table.append(2*i)"
   ]
  },
  {
   "cell_type": "code",
   "execution_count": 5,
   "id": "ab64058c-0e1c-4b21-81c0-95b1c4d6d8d2",
   "metadata": {},
   "outputs": [],
   "source": [
    "t =[2*i for i in range(1,11)]"
   ]
  },
  {
   "cell_type": "code",
   "execution_count": 6,
   "id": "aa2c0f4f-e272-498d-a614-a67377065866",
   "metadata": {},
   "outputs": [
    {
     "data": {
      "text/plain": [
       "[2, 4, 6, 8, 10, 12, 14, 16, 18, 20]"
      ]
     },
     "execution_count": 6,
     "metadata": {},
     "output_type": "execute_result"
    }
   ],
   "source": [
    "t"
   ]
  },
  {
   "cell_type": "code",
   "execution_count": 11,
   "id": "fc5aad06-60f0-4cc8-afa7-a3c0ec2ad5db",
   "metadata": {},
   "outputs": [],
   "source": [
    "t =[2*i for i in range(1,11) if i%2==0]"
   ]
  },
  {
   "cell_type": "code",
   "execution_count": 12,
   "id": "41a84399-60af-44d3-8e3a-ed224526542b",
   "metadata": {
    "scrolled": true
   },
   "outputs": [
    {
     "data": {
      "text/plain": [
       "[4, 8, 12, 16, 20]"
      ]
     },
     "execution_count": 12,
     "metadata": {},
     "output_type": "execute_result"
    }
   ],
   "source": [
    "t"
   ]
  },
  {
   "cell_type": "code",
   "execution_count": 13,
   "id": "4c148798-a769-4a87-9433-60306b09850a",
   "metadata": {},
   "outputs": [
    {
     "name": "stdout",
     "output_type": "stream",
     "text": [
      "{1, 2, 3, 4}\n"
     ]
    }
   ],
   "source": [
    "unique_numbers = {x for x in [1, 2, 2, 3, 4, 4]}\n",
    "print(unique_numbers)  # Output: {1, 2, 3, 4}"
   ]
  },
  {
   "cell_type": "code",
   "execution_count": 14,
   "id": "6bef5567-f5d5-4146-a2d1-5346b8812a3e",
   "metadata": {},
   "outputs": [
    {
     "name": "stdout",
     "output_type": "stream",
     "text": [
      "{1, 2, 3, 4}\n"
     ]
    }
   ],
   "source": [
    "unique_numbers = {x for x in [1, 2, 2, 3, 4, 4]}\n",
    "print(unique_numbers)  # Output: {1, 2, 3, 4}"
   ]
  },
  {
   "cell_type": "code",
   "execution_count": 15,
   "id": "b3672782-7c6a-40fa-bdd6-669f56901c76",
   "metadata": {},
   "outputs": [
    {
     "name": "stdout",
     "output_type": "stream",
     "text": [
      "['Even', 'Odd', 'Even', 'Odd', 'Even']\n"
     ]
    }
   ],
   "source": [
    "numbers = [\"Even\" if x % 2 == 0 else \"Odd\" for x in range(5)]\n",
    "print(numbers)  # Output: ['Even', 'Odd', 'Even', 'Odd', 'Even']"
   ]
  },
  {
   "cell_type": "code",
   "execution_count": null,
   "id": "a3b9859c-a470-4381-b31a-39e646942785",
   "metadata": {},
   "outputs": [],
   "source": []
  }
 ],
 "metadata": {
  "kernelspec": {
   "display_name": "Python [conda env:base] *",
   "language": "python",
   "name": "conda-base-py"
  },
  "language_info": {
   "codemirror_mode": {
    "name": "ipython",
    "version": 3
   },
   "file_extension": ".py",
   "mimetype": "text/x-python",
   "name": "python",
   "nbconvert_exporter": "python",
   "pygments_lexer": "ipython3",
   "version": "3.12.7"
  }
 },
 "nbformat": 4,
 "nbformat_minor": 5
}
