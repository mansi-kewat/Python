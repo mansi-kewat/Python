{
 "cells": [
  {
   "cell_type": "code",
   "execution_count": 2,
   "id": "e5f5dfaa-4c23-444d-950c-ff6f2b738f2a",
   "metadata": {},
   "outputs": [],
   "source": [
    "result= 10+2*3"
   ]
  },
  {
   "cell_type": "code",
   "execution_count": 3,
   "id": "7e7b2afb-a264-44c0-8954-33c1847bec3a",
   "metadata": {},
   "outputs": [
    {
     "name": "stdout",
     "output_type": "stream",
     "text": [
      "16\n"
     ]
    }
   ],
   "source": [
    "print(result)"
   ]
  },
  {
   "cell_type": "code",
   "execution_count": 4,
   "id": "93da93b9-25ad-4620-a155-7946a43e8552",
   "metadata": {},
   "outputs": [],
   "source": [
    "result = (10+2)*3"
   ]
  },
  {
   "cell_type": "code",
   "execution_count": 5,
   "id": "e9b7ece3-ec20-4d8e-91d2-cf43ff38c2e1",
   "metadata": {},
   "outputs": [
    {
     "name": "stdout",
     "output_type": "stream",
     "text": [
      "36\n"
     ]
    }
   ],
   "source": [
    "print(result)"
   ]
  }
 ],
 "metadata": {
  "kernelspec": {
   "display_name": "Python [conda env:base] *",
   "language": "python",
   "name": "conda-base-py"
  },
  "language_info": {
   "codemirror_mode": {
    "name": "ipython",
    "version": 3
   },
   "file_extension": ".py",
   "mimetype": "text/x-python",
   "name": "python",
   "nbconvert_exporter": "python",
   "pygments_lexer": "ipython3",
   "version": "3.12.7"
  }
 },
 "nbformat": 4,
 "nbformat_minor": 5
}
