{
 "cells": [
  {
   "cell_type": "code",
   "execution_count": 1,
   "id": "7662eb4f-d6b2-4cee-a2a4-066dba3ae813",
   "metadata": {},
   "outputs": [
    {
     "name": "stdin",
     "output_type": "stream",
     "text": [
      "enter the value of a 45\n"
     ]
    }
   ],
   "source": [
    "a =input(\"enter the value of a\")"
   ]
  },
  {
   "cell_type": "code",
   "execution_count": 2,
   "id": "409443f5-5d76-4ded-b710-0004647e25e5",
   "metadata": {},
   "outputs": [
    {
     "name": "stdin",
     "output_type": "stream",
     "text": [
      "enter the value of b 56\n"
     ]
    }
   ],
   "source": [
    "b = input(\"enter the value of b\")"
   ]
  },
  {
   "cell_type": "code",
   "execution_count": 3,
   "id": "49ec284c-a59f-4e00-856c-160a1891e9a6",
   "metadata": {},
   "outputs": [
    {
     "data": {
      "text/plain": [
       "'45'"
      ]
     },
     "execution_count": 3,
     "metadata": {},
     "output_type": "execute_result"
    }
   ],
   "source": [
    "a"
   ]
  },
  {
   "cell_type": "code",
   "execution_count": 4,
   "id": "9a93d2bf-0434-42d7-9ce3-b467a506a06c",
   "metadata": {},
   "outputs": [
    {
     "data": {
      "text/plain": [
       "'56'"
      ]
     },
     "execution_count": 4,
     "metadata": {},
     "output_type": "execute_result"
    }
   ],
   "source": [
    "b"
   ]
  },
  {
   "cell_type": "code",
   "execution_count": 5,
   "id": "9aa1de32-5508-407c-933b-6f9dd0560876",
   "metadata": {},
   "outputs": [
    {
     "data": {
      "text/plain": [
       "'4556'"
      ]
     },
     "execution_count": 5,
     "metadata": {},
     "output_type": "execute_result"
    }
   ],
   "source": [
    "a+b"
   ]
  },
  {
   "cell_type": "code",
   "execution_count": 6,
   "id": "a850e87d-bdb0-4e38-b719-2621d70b8c35",
   "metadata": {},
   "outputs": [
    {
     "data": {
      "text/plain": [
       "101"
      ]
     },
     "execution_count": 6,
     "metadata": {},
     "output_type": "execute_result"
    }
   ],
   "source": [
    "int(a) +int(b)"
   ]
  }
 ],
 "metadata": {
  "kernelspec": {
   "display_name": "Python [conda env:base] *",
   "language": "python",
   "name": "conda-base-py"
  },
  "language_info": {
   "codemirror_mode": {
    "name": "ipython",
    "version": 3
   },
   "file_extension": ".py",
   "mimetype": "text/x-python",
   "name": "python",
   "nbconvert_exporter": "python",
   "pygments_lexer": "ipython3",
   "version": "3.12.7"
  }
 },
 "nbformat": 4,
 "nbformat_minor": 5
}
