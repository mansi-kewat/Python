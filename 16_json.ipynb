{
 "cells": [
  {
   "cell_type": "code",
   "execution_count": 1,
   "id": "6c92fd36-e119-47ca-a5f3-9141bded3562",
   "metadata": {},
   "outputs": [],
   "source": [
    "import json\n"
   ]
  },
  {
   "cell_type": "code",
   "execution_count": 2,
   "id": "754c9a55-e62b-4667-b080-1fd93209e701",
   "metadata": {},
   "outputs": [
    {
     "data": {
      "text/plain": [
       "'{\"name\": \"alice\", \"company\": \"tcs\", \"salary\": 45000}'"
      ]
     },
     "execution_count": 2,
     "metadata": {},
     "output_type": "execute_result"
    }
   ],
   "source": [
    "obj = { \"name\": \"alice\" ,\"company\":\"tcs\" , \"salary\" : 45000}\n",
    "json.dumps(obj)"
   ]
  },
  {
   "cell_type": "code",
   "execution_count": 4,
   "id": "429dc868-a14e-4a08-8f2f-ded5791c860a",
   "metadata": {},
   "outputs": [
    {
     "name": "stdout",
     "output_type": "stream",
     "text": [
      "{\"name\": \"alice\", \"company\": \"tcs\", \"salary\": 45000}\n"
     ]
    }
   ],
   "source": [
    "obj = { \"name\": \"alice\" ,\"company\":\"tcs\" , \"salary\" : 45000}\n",
    "s =json.dumps(obj)\n",
    "type(s)\n",
    "print(s)"
   ]
  },
  {
   "cell_type": "code",
   "execution_count": 5,
   "id": "42b0fb62-a11f-4655-bf35-47588c4a8f7b",
   "metadata": {},
   "outputs": [],
   "source": [
    "d = json.loads('{ \"name\": \"alice\" ,\"company\":\"tcs\" , \"salary\" : 45000}')"
   ]
  },
  {
   "cell_type": "code",
   "execution_count": 6,
   "id": "51e572d1-b085-41e8-8134-85f157a49510",
   "metadata": {},
   "outputs": [
    {
     "data": {
      "text/plain": [
       "dict"
      ]
     },
     "execution_count": 6,
     "metadata": {},
     "output_type": "execute_result"
    }
   ],
   "source": [
    "type(d)"
   ]
  },
  {
   "cell_type": "code",
   "execution_count": 7,
   "id": "4f86acff-d085-429c-bf32-d6a5a02481f5",
   "metadata": {},
   "outputs": [],
   "source": [
    "file = open(\"data.json\",\"w\")"
   ]
  },
  {
   "cell_type": "code",
   "execution_count": 8,
   "id": "0645d370-e35f-4b53-b124-dc5850af924f",
   "metadata": {},
   "outputs": [],
   "source": [
    "json.dump(obj,file)"
   ]
  },
  {
   "cell_type": "code",
   "execution_count": 9,
   "id": "fcec665b-5438-4415-929c-3fe906c442c6",
   "metadata": {},
   "outputs": [],
   "source": [
    "file.close()"
   ]
  },
  {
   "cell_type": "code",
   "execution_count": null,
   "id": "95523726-0812-4005-8028-f600cd233ae8",
   "metadata": {},
   "outputs": [],
   "source": []
  }
 ],
 "metadata": {
  "kernelspec": {
   "display_name": "Python [conda env:base] *",
   "language": "python",
   "name": "conda-base-py"
  },
  "language_info": {
   "codemirror_mode": {
    "name": "ipython",
    "version": 3
   },
   "file_extension": ".py",
   "mimetype": "text/x-python",
   "name": "python",
   "nbconvert_exporter": "python",
   "pygments_lexer": "ipython3",
   "version": "3.12.7"
  }
 },
 "nbformat": 4,
 "nbformat_minor": 5
}
