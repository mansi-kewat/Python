{
 "cells": [
  {
   "cell_type": "code",
   "execution_count": 5,
   "id": "9912ef5d-d4b2-4c81-81e6-910713463928",
   "metadata": {},
   "outputs": [],
   "source": [
    "code=2000\n"
   ]
  },
  {
   "cell_type": "code",
   "execution_count": 6,
   "id": "9b8531ec-6722-4180-bee0-9beca3c743a2",
   "metadata": {},
   "outputs": [
    {
     "name": "stdout",
     "output_type": "stream",
     "text": [
      "nothing matched\n",
      "end of program\n"
     ]
    }
   ],
   "source": [
    "match code:\n",
    "    case 200:\n",
    "        print(\"response ok\")\n",
    "    case 400:\n",
    "        print(\"bad response\")\n",
    "    case 404:\n",
    "        print(\"not found\")\n",
    "    case _:\n",
    "        print(\"nothing matched\")\n",
    "print(\"end of program\")        "
   ]
  },
  {
   "cell_type": "code",
   "execution_count": null,
   "id": "704514de-daba-49e9-9486-5ec1f5268952",
   "metadata": {},
   "outputs": [],
   "source": []
  }
 ],
 "metadata": {
  "kernelspec": {
   "display_name": "Python [conda env:base] *",
   "language": "python",
   "name": "conda-base-py"
  },
  "language_info": {
   "codemirror_mode": {
    "name": "ipython",
    "version": 3
   },
   "file_extension": ".py",
   "mimetype": "text/x-python",
   "name": "python",
   "nbconvert_exporter": "python",
   "pygments_lexer": "ipython3",
   "version": "3.12.7"
  }
 },
 "nbformat": 4,
 "nbformat_minor": 5
}
