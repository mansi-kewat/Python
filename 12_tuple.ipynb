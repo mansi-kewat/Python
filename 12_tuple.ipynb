{
 "cells": [
  {
   "cell_type": "code",
   "execution_count": 1,
   "id": "312ce89a-0621-4e01-8a2f-f0090e3dbfae",
   "metadata": {},
   "outputs": [],
   "source": [
    "e =()"
   ]
  },
  {
   "cell_type": "code",
   "execution_count": 2,
   "id": "70ae08e3-8de7-4a9d-9c80-b4eb1c6fa0ce",
   "metadata": {},
   "outputs": [
    {
     "data": {
      "text/plain": [
       "()"
      ]
     },
     "execution_count": 2,
     "metadata": {},
     "output_type": "execute_result"
    }
   ],
   "source": [
    "e"
   ]
  },
  {
   "cell_type": "code",
   "execution_count": 3,
   "id": "470584ca-47e9-4aaf-8985-d9d70f42a9f8",
   "metadata": {},
   "outputs": [
    {
     "data": {
      "text/plain": [
       "tuple"
      ]
     },
     "execution_count": 3,
     "metadata": {},
     "output_type": "execute_result"
    }
   ],
   "source": [
    "type(e)"
   ]
  },
  {
   "cell_type": "code",
   "execution_count": 2,
   "id": "2117a2fd-4a9f-4749-86a2-a2a390bb91ef",
   "metadata": {},
   "outputs": [],
   "source": [
    "t =(5,64,23,23)"
   ]
  },
  {
   "cell_type": "code",
   "execution_count": 3,
   "id": "1d769691-eb96-448c-a964-f0bbcf53726d",
   "metadata": {},
   "outputs": [
    {
     "data": {
      "text/plain": [
       "(5, 64, 23, 23)"
      ]
     },
     "execution_count": 3,
     "metadata": {},
     "output_type": "execute_result"
    }
   ],
   "source": [
    "t"
   ]
  },
  {
   "cell_type": "code",
   "execution_count": 4,
   "id": "3e947f13-c0d7-4e02-93af-44da9e467952",
   "metadata": {},
   "outputs": [
    {
     "data": {
      "text/plain": [
       "4"
      ]
     },
     "execution_count": 4,
     "metadata": {},
     "output_type": "execute_result"
    }
   ],
   "source": [
    "len(t)"
   ]
  },
  {
   "cell_type": "code",
   "execution_count": 5,
   "id": "66181879-8fde-47e4-b937-c2ad8c77692e",
   "metadata": {},
   "outputs": [
    {
     "name": "stdout",
     "output_type": "stream",
     "text": [
      "mansi\n",
      "22\n"
     ]
    }
   ],
   "source": [
    "person = (\"mansi\",22,\"engineer\")\n",
    "name, age ,profession = person\n",
    "print(name)\n",
    "print(age)"
   ]
  },
  {
   "cell_type": "code",
   "execution_count": null,
   "id": "360cdadb-c2cf-44df-85da-99f6c831422a",
   "metadata": {},
   "outputs": [],
   "source": []
  }
 ],
 "metadata": {
  "kernelspec": {
   "display_name": "Python [conda env:base] *",
   "language": "python",
   "name": "conda-base-py"
  },
  "language_info": {
   "codemirror_mode": {
    "name": "ipython",
    "version": 3
   },
   "file_extension": ".py",
   "mimetype": "text/x-python",
   "name": "python",
   "nbconvert_exporter": "python",
   "pygments_lexer": "ipython3",
   "version": "3.12.7"
  }
 },
 "nbformat": 4,
 "nbformat_minor": 5
}
