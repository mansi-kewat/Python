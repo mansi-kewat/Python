{
 "cells": [
  {
   "cell_type": "code",
   "execution_count": 1,
   "id": "be535632-e4bd-44c2-ad0d-eba522ff528e",
   "metadata": {},
   "outputs": [],
   "source": [
    "l =[3,35,4,5,6]"
   ]
  },
  {
   "cell_type": "code",
   "execution_count": 3,
   "id": "00b2440a-1e16-4a6e-8212-5e6a99b90fc4",
   "metadata": {},
   "outputs": [],
   "source": [
    "l[0]= 2"
   ]
  },
  {
   "cell_type": "code",
   "execution_count": 4,
   "id": "14f8f90f-dc46-44ba-891a-5953c6dbc395",
   "metadata": {},
   "outputs": [
    {
     "name": "stdout",
     "output_type": "stream",
     "text": [
      "[2, 35, 4, 5, 6]\n"
     ]
    }
   ],
   "source": [
    "print(l)"
   ]
  },
  {
   "cell_type": "code",
   "execution_count": 9,
   "id": "4c4f436d-4bdd-4230-bd49-67e567014b20",
   "metadata": {},
   "outputs": [],
   "source": [
    "l.append(9)"
   ]
  },
  {
   "cell_type": "code",
   "execution_count": 10,
   "id": "acc2b21f-26c3-4ffd-96da-ddda0087faef",
   "metadata": {},
   "outputs": [
    {
     "data": {
      "text/plain": [
       "[2, 35, 4, 5, 6, 8, 8, 8, 9]"
      ]
     },
     "execution_count": 10,
     "metadata": {},
     "output_type": "execute_result"
    }
   ],
   "source": [
    "l"
   ]
  },
  {
   "cell_type": "code",
   "execution_count": 11,
   "id": "9a62789b-4077-4ec1-bf6f-23277a2d6b1d",
   "metadata": {},
   "outputs": [],
   "source": [
    "l2=[5,7]"
   ]
  },
  {
   "cell_type": "code",
   "execution_count": 12,
   "id": "cbb3c97e-13ce-4edc-ae0d-9d9eda100545",
   "metadata": {},
   "outputs": [],
   "source": [
    "l.extend(l2)"
   ]
  },
  {
   "cell_type": "code",
   "execution_count": 13,
   "id": "aec4e956-7aff-468d-859b-4914d217d51a",
   "metadata": {},
   "outputs": [
    {
     "data": {
      "text/plain": [
       "[2, 35, 4, 5, 6, 8, 8, 8, 9, 5, 7]"
      ]
     },
     "execution_count": 13,
     "metadata": {},
     "output_type": "execute_result"
    }
   ],
   "source": [
    "l"
   ]
  },
  {
   "cell_type": "code",
   "execution_count": 14,
   "id": "6ae5c649-aaed-456c-bc94-cd317d264cbc",
   "metadata": {},
   "outputs": [],
   "source": [
    "l.sort()"
   ]
  },
  {
   "cell_type": "code",
   "execution_count": 15,
   "id": "d2335390-158b-42a1-8ad2-38beebc86a7a",
   "metadata": {},
   "outputs": [
    {
     "data": {
      "text/plain": [
       "[2, 4, 5, 5, 6, 7, 8, 8, 8, 9, 35]"
      ]
     },
     "execution_count": 15,
     "metadata": {},
     "output_type": "execute_result"
    }
   ],
   "source": [
    "l"
   ]
  },
  {
   "cell_type": "code",
   "execution_count": 19,
   "id": "38cf2af6-1aee-4701-8b3e-a378a360412b",
   "metadata": {},
   "outputs": [
    {
     "data": {
      "text/plain": [
       "[1, 2, 6, 6, 21]"
      ]
     },
     "execution_count": 19,
     "metadata": {},
     "output_type": "execute_result"
    }
   ],
   "source": [
    "sorted(newl)"
   ]
  },
  {
   "cell_type": "code",
   "execution_count": 20,
   "id": "183c41b2-178d-45c5-a642-842e5ee24bcf",
   "metadata": {},
   "outputs": [],
   "source": [
    "newl=[2,6,1,21,6]"
   ]
  },
  {
   "cell_type": "code",
   "execution_count": null,
   "id": "0626ea7c-1d48-4043-9519-d369d9ec3110",
   "metadata": {},
   "outputs": [],
   "source": [
    " "
   ]
  },
  {
   "cell_type": "code",
   "execution_count": null,
   "id": "689158a5-b39b-430c-809b-14c2014a95fb",
   "metadata": {},
   "outputs": [],
   "source": []
  }
 ],
 "metadata": {
  "kernelspec": {
   "display_name": "Python [conda env:base] *",
   "language": "python",
   "name": "conda-base-py"
  },
  "language_info": {
   "codemirror_mode": {
    "name": "ipython",
    "version": 3
   },
   "file_extension": ".py",
   "mimetype": "text/x-python",
   "name": "python",
   "nbconvert_exporter": "python",
   "pygments_lexer": "ipython3",
   "version": "3.12.7"
  }
 },
 "nbformat": 4,
 "nbformat_minor": 5
}
