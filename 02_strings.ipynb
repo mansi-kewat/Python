{
 "cells": [
  {
   "cell_type": "code",
   "execution_count": 1,
   "id": "100c07f8-8b72-4a47-bd50-7c003f0de762",
   "metadata": {},
   "outputs": [],
   "source": [
    "name = \"mansi\""
   ]
  },
  {
   "cell_type": "code",
   "execution_count": 2,
   "id": "1c7825e9-7638-45e4-a641-0582bcdb83ae",
   "metadata": {},
   "outputs": [
    {
     "data": {
      "text/plain": [
       "'mansi'"
      ]
     },
     "execution_count": 2,
     "metadata": {},
     "output_type": "execute_result"
    }
   ],
   "source": [
    "name"
   ]
  },
  {
   "cell_type": "code",
   "execution_count": 3,
   "id": "d917b6ef-6ad1-496d-81c7-18012769ed90",
   "metadata": {},
   "outputs": [
    {
     "data": {
      "text/plain": [
       "'MANSI'"
      ]
     },
     "execution_count": 3,
     "metadata": {},
     "output_type": "execute_result"
    }
   ],
   "source": [
    "name.upper()"
   ]
  },
  {
   "cell_type": "code",
   "execution_count": 5,
   "id": "43adbf98-c5c2-437c-8dd9-0966e9d0e4dc",
   "metadata": {},
   "outputs": [
    {
     "data": {
      "text/plain": [
       "True"
      ]
     },
     "execution_count": 5,
     "metadata": {},
     "output_type": "execute_result"
    }
   ],
   "source": [
    "name.endswith(\"si\")"
   ]
  },
  {
   "cell_type": "code",
   "execution_count": 6,
   "id": "ad17b393-3c28-4bc6-9f8f-f2bf03fd7b75",
   "metadata": {},
   "outputs": [
    {
     "data": {
      "text/plain": [
       "1"
      ]
     },
     "execution_count": 6,
     "metadata": {},
     "output_type": "execute_result"
    }
   ],
   "source": [
    "name.count(\"a\")\n"
   ]
  },
  {
   "cell_type": "code",
   "execution_count": 7,
   "id": "f6bfcfce-08c3-46dd-8816-6fa8370de8ac",
   "metadata": {},
   "outputs": [
    {
     "data": {
      "text/plain": [
       "False"
      ]
     },
     "execution_count": 7,
     "metadata": {},
     "output_type": "execute_result"
    }
   ],
   "source": [
    "name.endswith(\"a\")"
   ]
  },
  {
   "cell_type": "code",
   "execution_count": 8,
   "id": "b4e260ed-947a-4d7b-8ec5-02ab8b905dd2",
   "metadata": {},
   "outputs": [
    {
     "name": "stdout",
     "output_type": "stream",
     "text": [
      "10\n"
     ]
    }
   ],
   "source": [
    "s =\"codewithme\"\n",
    "print(len(s))"
   ]
  },
  {
   "cell_type": "code",
   "execution_count": 10,
   "id": "4336732e-e19a-4e33-b975-89423b95e3d7",
   "metadata": {},
   "outputs": [
    {
     "data": {
      "text/plain": [
       "'codew'"
      ]
     },
     "execution_count": 10,
     "metadata": {},
     "output_type": "execute_result"
    }
   ],
   "source": [
    "s[0:5]"
   ]
  },
  {
   "cell_type": "code",
   "execution_count": 11,
   "id": "7411cea2-c0e6-4938-b6b6-6ebd852a9c77",
   "metadata": {},
   "outputs": [
    {
     "data": {
      "text/plain": [
       "'odewithm'"
      ]
     },
     "execution_count": 11,
     "metadata": {},
     "output_type": "execute_result"
    }
   ],
   "source": [
    "s[1:-1]"
   ]
  }
 ],
 "metadata": {
  "kernelspec": {
   "display_name": "Python [conda env:base] *",
   "language": "python",
   "name": "conda-base-py"
  },
  "language_info": {
   "codemirror_mode": {
    "name": "ipython",
    "version": 3
   },
   "file_extension": ".py",
   "mimetype": "text/x-python",
   "name": "python",
   "nbconvert_exporter": "python",
   "pygments_lexer": "ipython3",
   "version": "3.12.7"
  }
 },
 "nbformat": 4,
 "nbformat_minor": 5
}
