{
 "cells": [
  {
   "cell_type": "code",
   "execution_count": 1,
   "id": "bba2db0f-06cc-41fb-af28-3ad1ea7cf01f",
   "metadata": {},
   "outputs": [],
   "source": [
    "f = open(\"text.txt\",\"r\")"
   ]
  },
  {
   "cell_type": "code",
   "execution_count": 2,
   "id": "30d02c6d-fabb-4c95-b13f-3a1d20b4c991",
   "metadata": {},
   "outputs": [
    {
     "data": {
      "text/plain": [
       "'mansi \\nis\\na \\ngood\\ngirl'"
      ]
     },
     "execution_count": 2,
     "metadata": {},
     "output_type": "execute_result"
    }
   ],
   "source": [
    "f.read()"
   ]
  },
  {
   "cell_type": "code",
   "execution_count": 4,
   "id": "a2c8ce16-41ac-4ebe-acf5-4af7619133b1",
   "metadata": {},
   "outputs": [],
   "source": [
    "s = \"this is a nice way to learn data science\""
   ]
  },
  {
   "cell_type": "code",
   "execution_count": 5,
   "id": "539ec863-c780-439e-93f3-8e63ad279f16",
   "metadata": {},
   "outputs": [],
   "source": [
    "f.close()"
   ]
  },
  {
   "cell_type": "code",
   "execution_count": 6,
   "id": "8b8ff6a0-fef8-4f4f-8cf2-8321e975ee1b",
   "metadata": {},
   "outputs": [],
   "source": [
    "f =open(\"mansi.txt\",\"w\")"
   ]
  },
  {
   "cell_type": "code",
   "execution_count": 7,
   "id": "245c7e68-4cc1-4968-bc47-8b0ce5d9aa45",
   "metadata": {},
   "outputs": [
    {
     "data": {
      "text/plain": [
       "40"
      ]
     },
     "execution_count": 7,
     "metadata": {},
     "output_type": "execute_result"
    }
   ],
   "source": [
    "f.write(s)"
   ]
  },
  {
   "cell_type": "code",
   "execution_count": 8,
   "id": "c42c2b2a-0cd4-44b5-8610-882421f3f9eb",
   "metadata": {},
   "outputs": [],
   "source": [
    "f.close()"
   ]
  },
  {
   "cell_type": "code",
   "execution_count": 14,
   "id": "775f89c6-4d25-4a54-a4df-5c2dff1503fd",
   "metadata": {},
   "outputs": [],
   "source": [
    "m = \"it is great to know that you are happy in your life\""
   ]
  },
  {
   "cell_type": "code",
   "execution_count": 15,
   "id": "08646d13-09c8-4ffc-acd0-78dbda86fa7a",
   "metadata": {},
   "outputs": [],
   "source": [
    "file = open(\"manu.txt\",\"w\")"
   ]
  },
  {
   "cell_type": "code",
   "execution_count": 16,
   "id": "63885714-c16c-44de-9cb8-2d27ef835ca5",
   "metadata": {},
   "outputs": [
    {
     "data": {
      "text/plain": [
       "51"
      ]
     },
     "execution_count": 16,
     "metadata": {},
     "output_type": "execute_result"
    }
   ],
   "source": [
    "file.write(m)"
   ]
  },
  {
   "cell_type": "code",
   "execution_count": 13,
   "id": "837b9f9b-c761-4abb-a585-44a10ab9fce8",
   "metadata": {},
   "outputs": [],
   "source": [
    "f.close()"
   ]
  },
  {
   "cell_type": "code",
   "execution_count": null,
   "id": "fb672fa4-2075-4a5f-9430-118993714ac5",
   "metadata": {},
   "outputs": [],
   "source": []
  }
 ],
 "metadata": {
  "kernelspec": {
   "display_name": "Python [conda env:base] *",
   "language": "python",
   "name": "conda-base-py"
  },
  "language_info": {
   "codemirror_mode": {
    "name": "ipython",
    "version": 3
   },
   "file_extension": ".py",
   "mimetype": "text/x-python",
   "name": "python",
   "nbconvert_exporter": "python",
   "pygments_lexer": "ipython3",
   "version": "3.12.7"
  }
 },
 "nbformat": 4,
 "nbformat_minor": 5
}
