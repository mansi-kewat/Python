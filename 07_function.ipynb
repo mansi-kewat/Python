{
 "cells": [
  {
   "cell_type": "code",
   "execution_count": 1,
   "id": "b6211d32-7d65-450e-af83-34f8d1905033",
   "metadata": {},
   "outputs": [],
   "source": [
    " def avg(a,b):\n",
    "     return (a+b)/2"
   ]
  },
  {
   "cell_type": "code",
   "execution_count": 2,
   "id": "b9268814-7700-45b2-9b49-b23b981fc7e7",
   "metadata": {},
   "outputs": [
    {
     "data": {
      "text/plain": [
       "5.0"
      ]
     },
     "execution_count": 2,
     "metadata": {},
     "output_type": "execute_result"
    }
   ],
   "source": [
    "avg(4,6)"
   ]
  },
  {
   "cell_type": "code",
   "execution_count": 3,
   "id": "13a42604-7772-46b6-a630-e41d9ce08d28",
   "metadata": {},
   "outputs": [],
   "source": [
    " def avg(a,b=10):\n",
    "     return (a+b)/2"
   ]
  },
  {
   "cell_type": "code",
   "execution_count": 4,
   "id": "3451d9ec-6d0e-4da0-b1cd-76a915e23824",
   "metadata": {},
   "outputs": [
    {
     "data": {
      "text/plain": [
       "7.0"
      ]
     },
     "execution_count": 4,
     "metadata": {},
     "output_type": "execute_result"
    }
   ],
   "source": [
    "avg(4)"
   ]
  },
  {
   "cell_type": "code",
   "execution_count": 6,
   "id": "56d954f4-e574-4a35-862c-ae2bc2043d3b",
   "metadata": {},
   "outputs": [],
   "source": [
    "def greet():\n",
    "    print(\"hello mansi\")"
   ]
  }
 ],
 "metadata": {
  "kernelspec": {
   "display_name": "Python [conda env:base] *",
   "language": "python",
   "name": "conda-base-py"
  },
  "language_info": {
   "codemirror_mode": {
    "name": "ipython",
    "version": 3
   },
   "file_extension": ".py",
   "mimetype": "text/x-python",
   "name": "python",
   "nbconvert_exporter": "python",
   "pygments_lexer": "ipython3",
   "version": "3.12.7"
  }
 },
 "nbformat": 4,
 "nbformat_minor": 5
}
