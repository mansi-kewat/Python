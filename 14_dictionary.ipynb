{
 "cells": [
  {
   "cell_type": "code",
   "execution_count": null,
   "id": "4264ba88-d74b-4fd1-90d8-f36b99117042",
   "metadata": {},
   "outputs": [],
   "source": [
    "d = {} #empty dictionary"
   ]
  },
  {
   "cell_type": "code",
   "execution_count": 1,
   "id": "4be446db-c708-46a9-9da1-49b6e25be3dc",
   "metadata": {},
   "outputs": [],
   "source": [
    "student = {\n",
    "    \"name\":\"mansi\",\n",
    "    \"age\": 22,\n",
    "    \"grade\" : \"A\"\n",
    "}"
   ]
  },
  {
   "cell_type": "code",
   "execution_count": 2,
   "id": "6d957bcc-8313-46b1-a6a1-bfbd5a106af2",
   "metadata": {},
   "outputs": [
    {
     "data": {
      "text/plain": [
       "'mansi'"
      ]
     },
     "execution_count": 2,
     "metadata": {},
     "output_type": "execute_result"
    }
   ],
   "source": [
    "student[\"name\"]"
   ]
  },
  {
   "cell_type": "code",
   "execution_count": 3,
   "id": "4c15ee0a-396c-495a-9672-f42bfed371b6",
   "metadata": {},
   "outputs": [
    {
     "data": {
      "text/plain": [
       "'mansi'"
      ]
     },
     "execution_count": 3,
     "metadata": {},
     "output_type": "execute_result"
    }
   ],
   "source": [
    "student.get(\"name\")"
   ]
  },
  {
   "cell_type": "code",
   "execution_count": 4,
   "id": "1730403f-5c2a-4332-9b0a-104236808f21",
   "metadata": {},
   "outputs": [],
   "source": [
    "student[\"age\"]=32"
   ]
  },
  {
   "cell_type": "code",
   "execution_count": 5,
   "id": "fa3ef768-c86e-42c7-b4ce-d5812b2efd05",
   "metadata": {},
   "outputs": [
    {
     "name": "stdout",
     "output_type": "stream",
     "text": [
      "{'name': 'mansi', 'age': 32, 'grade': 'A'}\n"
     ]
    }
   ],
   "source": [
    "print(student)"
   ]
  },
  {
   "cell_type": "code",
   "execution_count": 6,
   "id": "6412b88a-081c-4bfd-858a-c54373a5386e",
   "metadata": {},
   "outputs": [
    {
     "data": {
      "text/plain": [
       "dict_keys(['name', 'age', 'grade'])"
      ]
     },
     "execution_count": 6,
     "metadata": {},
     "output_type": "execute_result"
    }
   ],
   "source": [
    " student.keys()"
   ]
  },
  {
   "cell_type": "code",
   "execution_count": 7,
   "id": "2a60135f-054e-44c2-b76b-ceefebf675d4",
   "metadata": {},
   "outputs": [
    {
     "data": {
      "text/plain": [
       "dict_items([('name', 'mansi'), ('age', 32), ('grade', 'A')])"
      ]
     },
     "execution_count": 7,
     "metadata": {},
     "output_type": "execute_result"
    }
   ],
   "source": [
    "student.items()"
   ]
  },
  {
   "cell_type": "code",
   "execution_count": 8,
   "id": "53a4be67-d0dc-4c09-93c7-f7868c3d28dc",
   "metadata": {},
   "outputs": [
    {
     "data": {
      "text/plain": [
       "dict_values(['mansi', 32, 'A'])"
      ]
     },
     "execution_count": 8,
     "metadata": {},
     "output_type": "execute_result"
    }
   ],
   "source": [
    "student.values()"
   ]
  },
  {
   "cell_type": "code",
   "execution_count": 11,
   "id": "4c93626a-3dd1-4cbd-8b42-e5561cbcfd23",
   "metadata": {},
   "outputs": [],
   "source": [
    "student.update({\"name\":\"manu\"})"
   ]
  },
  {
   "cell_type": "code",
   "execution_count": 12,
   "id": "3a20e579-aca9-4ccc-8bd6-351a82e06e34",
   "metadata": {},
   "outputs": [
    {
     "data": {
      "text/plain": [
       "{'name': 'manu', 'age': 32, 'grade': 'A'}"
      ]
     },
     "execution_count": 12,
     "metadata": {},
     "output_type": "execute_result"
    }
   ],
   "source": [
    "student"
   ]
  },
  {
   "cell_type": "code",
   "execution_count": 13,
   "id": "794b84f1-9a43-4cc8-9718-e4e81be748c0",
   "metadata": {},
   "outputs": [
    {
     "data": {
      "text/plain": [
       "32"
      ]
     },
     "execution_count": 13,
     "metadata": {},
     "output_type": "execute_result"
    }
   ],
   "source": [
    "student.pop(\"age\")"
   ]
  },
  {
   "cell_type": "code",
   "execution_count": 14,
   "id": "b6b05526-554c-4a32-bb87-7610256cff57",
   "metadata": {},
   "outputs": [
    {
     "data": {
      "text/plain": [
       "{'name': 'manu', 'grade': 'A'}"
      ]
     },
     "execution_count": 14,
     "metadata": {},
     "output_type": "execute_result"
    }
   ],
   "source": [
    "student"
   ]
  },
  {
   "cell_type": "code",
   "execution_count": null,
   "id": "6ac798e9-1214-4c47-a8b4-2af105340a15",
   "metadata": {},
   "outputs": [],
   "source": []
  }
 ],
 "metadata": {
  "kernelspec": {
   "display_name": "Python [conda env:base] *",
   "language": "python",
   "name": "conda-base-py"
  },
  "language_info": {
   "codemirror_mode": {
    "name": "ipython",
    "version": 3
   },
   "file_extension": ".py",
   "mimetype": "text/x-python",
   "name": "python",
   "nbconvert_exporter": "python",
   "pygments_lexer": "ipython3",
   "version": "3.12.7"
  }
 },
 "nbformat": 4,
 "nbformat_minor": 5
}
