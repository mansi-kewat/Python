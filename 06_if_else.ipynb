{
 "cells": [
  {
   "cell_type": "code",
   "execution_count": 1,
   "id": "7ff3af2d-0234-45fc-9707-d1bc5cbc47f1",
   "metadata": {},
   "outputs": [],
   "source": [
    "a = 4"
   ]
  },
  {
   "cell_type": "code",
   "execution_count": 2,
   "id": "7b96aca4-6b60-423a-8b5b-d33060dbbc31",
   "metadata": {},
   "outputs": [
    {
     "name": "stdout",
     "output_type": "stream",
     "text": [
      "smaller\n"
     ]
    }
   ],
   "source": [
    "if(a>53):\n",
    "    print(\"greater\")\n",
    "else:\n",
    "    print(\"smaller\")\n",
    "    \n",
    "    "
   ]
  },
  {
   "cell_type": "code",
   "execution_count": 3,
   "id": "c9271d1e-4fb7-49d1-af9a-a4822952975e",
   "metadata": {},
   "outputs": [],
   "source": [
    "if a>5:\n",
    "    print(\"greater\")\n",
    "    "
   ]
  },
  {
   "cell_type": "code",
   "execution_count": 6,
   "id": "d82f750f-4d75-4de3-bf7f-c86a3d4cf3f8",
   "metadata": {},
   "outputs": [
    {
     "name": "stdin",
     "output_type": "stream",
     "text": [
      "enter your age 56\n"
     ]
    },
    {
     "name": "stdout",
     "output_type": "stream",
     "text": [
      "you are eligible\n"
     ]
    }
   ],
   "source": [
    "age = int(input(\"enter your age\"))\n",
    "if(age==18):\n",
    "    print(\"you can vote\")\n",
    "elif(age<18):\n",
    "    print(\"you cannot vote\")\n",
    "elif(age>=18):\n",
    "    print(\"you are eligible\")\n",
    "else:\n",
    "    print(\"you should become 18 then u can vote\")\n",
    "    "
   ]
  }
 ],
 "metadata": {
  "kernelspec": {
   "display_name": "Python [conda env:base] *",
   "language": "python",
   "name": "conda-base-py"
  },
  "language_info": {
   "codemirror_mode": {
    "name": "ipython",
    "version": 3
   },
   "file_extension": ".py",
   "mimetype": "text/x-python",
   "name": "python",
   "nbconvert_exporter": "python",
   "pygments_lexer": "ipython3",
   "version": "3.12.7"
  }
 },
 "nbformat": 4,
 "nbformat_minor": 5
}
