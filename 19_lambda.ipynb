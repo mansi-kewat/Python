{
 "cells": [
  {
   "cell_type": "code",
   "execution_count": 1,
   "id": "ea546f2c-0f3c-4439-b78a-8b61d24de08f",
   "metadata": {},
   "outputs": [],
   "source": [
    "cube = lambda x:x*x*x"
   ]
  },
  {
   "cell_type": "code",
   "execution_count": 2,
   "id": "d50f8cc5-6ab1-4fa8-a2e0-274cf44ed450",
   "metadata": {},
   "outputs": [
    {
     "data": {
      "text/plain": [
       "27"
      ]
     },
     "execution_count": 2,
     "metadata": {},
     "output_type": "execute_result"
    }
   ],
   "source": [
    "cube(3)"
   ]
  },
  {
   "cell_type": "code",
   "execution_count": 3,
   "id": "b7207ef1-e4a8-44a5-9ad9-7e327187d62d",
   "metadata": {},
   "outputs": [],
   "source": [
    " s= lambda a,b:a+b\n"
   ]
  },
  {
   "cell_type": "code",
   "execution_count": 4,
   "id": "a0f3ba44-5e92-40b1-81cc-32eec5f56729",
   "metadata": {},
   "outputs": [
    {
     "data": {
      "text/plain": [
       "10"
      ]
     },
     "execution_count": 4,
     "metadata": {},
     "output_type": "execute_result"
    }
   ],
   "source": [
    "s(4,6)"
   ]
  },
  {
   "cell_type": "code",
   "execution_count": null,
   "id": "88616664-27aa-42fa-8a8f-95ef365e23d6",
   "metadata": {},
   "outputs": [],
   "source": []
  }
 ],
 "metadata": {
  "kernelspec": {
   "display_name": "Python [conda env:base] *",
   "language": "python",
   "name": "conda-base-py"
  },
  "language_info": {
   "codemirror_mode": {
    "name": "ipython",
    "version": 3
   },
   "file_extension": ".py",
   "mimetype": "text/x-python",
   "name": "python",
   "nbconvert_exporter": "python",
   "pygments_lexer": "ipython3",
   "version": "3.12.7"
  }
 },
 "nbformat": 4,
 "nbformat_minor": 5
}
